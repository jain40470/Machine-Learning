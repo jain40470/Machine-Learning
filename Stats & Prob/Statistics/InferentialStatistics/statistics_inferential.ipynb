{
 "cells": [
  {
   "cell_type": "markdown",
   "metadata": {},
   "source": [
    "\n",
    "# Inferential Statistics\n",
    "  \n",
    "- It involves predicting results and conclusion out of data.\n",
    "\n",
    "- Some common topics that comes under inferential statistics : \n",
    "  - Hypothesis Testing : In this we made some assumption or inference , then we will prove whether it is wrong or right.\n",
    "  - Confidence Intervals : Using sample , we made estimate about a population , then will figure out , how much is it  confident.\n",
    "  - Analysis of variance (ANOVA)  \n",
    "  - Regression Analysis \n",
    "  - Chi-Squared Tests \n",
    "  - Sampling Techniques  \n",
    "  - Bayesian Statistics  "
   ]
  },
  {
   "cell_type": "markdown",
   "metadata": {},
   "source": []
  }
 ],
 "metadata": {
  "language_info": {
   "name": "python"
  }
 },
 "nbformat": 4,
 "nbformat_minor": 2
}
